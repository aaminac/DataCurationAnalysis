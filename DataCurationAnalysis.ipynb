{
  "nbformat": 4,
  "nbformat_minor": 0,
  "metadata": {
    "colab": {
      "provenance": []
    },
    "kernelspec": {
      "name": "python3",
      "display_name": "Python 3"
    },
    "language_info": {
      "name": "python"
    }
  },
  "cells": [
    {
      "cell_type": "markdown",
      "source": [
        "Data Extraction from https://en.wikipedia.org/wiki/\n",
        "-  I decided to extract data about the list of cities in the United Kingdom. I opened and parsed the wikipedia webpage after making sure the necessary libraries were installed."
      ],
      "metadata": {
        "id": "FnO9m9exSsrX"
      }
    },
    {
      "cell_type": "markdown",
      "source": [
        "## 3. Import libraries (install if needed)"
      ],
      "metadata": {
        "id": "wFsbJCjCdJ_n"
      }
    },
    {
      "cell_type": "code",
      "source": [
        "# Check if beautifulsoup and pandas are already installed\n",
        "# If not, install it and then import\n",
        "\n",
        "try:\n",
        "    from bs4 import BeautifulSoup\n",
        "    import pandas\n",
        "    print (\"BeautifulSoup and Pandas are already installed and imported\")\n",
        "except:\n",
        "    import sys\n",
        "    !conda install --yes --prefix {sys.prefix} bs4\n",
        "    !conda install --yes --prefix {sys.prefix} pandas\n",
        "    from bs4 import BeautifulSoup\n",
        "    import pandas\n",
        "    print (\"BeautifulSoup and Pandas were not found. Installed them and imported\")\n",
        "\n",
        "import requests"
      ],
      "metadata": {
        "colab": {
          "base_uri": "https://localhost:8080/"
        },
        "id": "IFYLcqOJXAUE",
        "outputId": "009bb61d-32cb-42b4-dfba-915ada9e9d1d"
      },
      "execution_count": 110,
      "outputs": [
        {
          "output_type": "stream",
          "name": "stdout",
          "text": [
            "BeautifulSoup and Pandas are already installed and imported\n"
          ]
        }
      ]
    },
    {
      "cell_type": "markdown",
      "source": [
        "## 2. Read the webpage and parse it with BeautifulSoup"
      ],
      "metadata": {
        "id": "oy0xDVBmXY56"
      }
    },
    {
      "cell_type": "code",
      "source": [
        "opened_webpage = requests.get(\"https://en.wikipedia.org/wiki/List_of_cities_in_the_United_Kingdom\")\n",
        "print (\"Webpage opened successfully...\")\n",
        "\n",
        "# Initialize a BeautifulSoup object to read and parse the webpage read\n",
        "# This is like calling the __init__ function in BeautifulSoup\n",
        "bs = BeautifulSoup(opened_webpage.content, \"html.parser\")\n",
        "print (\"Webpage loaded and parsed successfully...\")"
      ],
      "metadata": {
        "colab": {
          "base_uri": "https://localhost:8080/"
        },
        "id": "bozOuK71XgIK",
        "outputId": "e7ccfdfd-af5a-42ed-e159-125a0e873811"
      },
      "execution_count": 111,
      "outputs": [
        {
          "output_type": "stream",
          "name": "stdout",
          "text": [
            "Webpage opened successfully...\n",
            "Webpage loaded and parsed successfully...\n"
          ]
        }
      ]
    },
    {
      "cell_type": "markdown",
      "source": [
        "## 3. Perform Extraction\n",
        "- I extract data by printing the raw data"
      ],
      "metadata": {
        "id": "pIBBMUuQYkz1"
      }
    },
    {
      "cell_type": "code",
      "source": [
        "# Define an empty list where the data will be kept\n",
        "raw_data = []\n",
        "\n",
        "# Find all the tables in the webpage page that we have just parsed\n",
        "table = bs.find_all(\"table\")\n",
        "\n",
        "for row in table:\n",
        "    line = row.text\n",
        "    raw_data.append(line)\n",
        "\n",
        "print(raw_data)"
      ],
      "metadata": {
        "colab": {
          "base_uri": "https://localhost:8080/"
        },
        "id": "ti4RvmcTk3f5",
        "outputId": "c24b376d-49e5-42a1-c57b-7170fa11c4a3"
      },
      "execution_count": 112,
      "outputs": [
        {
          "output_type": "stream",
          "name": "stdout",
          "text": [
            "['\\n\\nImage\\n\\nCity[3][1]\\n\\nYear grantedor confirmed\\n\\nCity council status\\n\\nNation/region\\n\\nCity Population[b]\\n\\n\\n\\n\\nCity of London6\\n\\ntime immemorial\\n\\nLocal government district(sui generis and ceremonial county)\\nMap\\n\\n\\nGreater London, England\\n\\n7,375 (2011)[16]\\n\\n\\n\\n\\nWestminster21\\n\\n1540\\n\\nLocal government distric(London borough)\\nMap\\n\\n\\nGreater London, England\\n\\n219,396 (2011)[16]\\n\\n\\n\\n\\nBirmingham2\\n\\n188933\\n\\nLocal government district(Metropolitan borough)\\nMap\\n\\n\\nWest Midlands, England\\n\\n1,092,330 (2013)[17]\\n\\n\\n\\n\\nLeeds1\\n\\n1893\\n\\nLocal government district(Metropolitan borough)\\nMap\\n\\n\\nYorkshire and the Humber, England\\n\\n751,485 (2011)[16]\\n\\n\\n\\n\\nGlasgow32(Scots: Glesga)(Scottish Gaelic: Glaschu)\\n\\n18th century[4](Burgh: 1492)\\n\\nLocal government district(Council area)\\nMap\\n\\n\\nScotland\\n\\n593,24538\\n\\n\\n\\n\\nSheffield3\\n\\n1893\\n\\nLocal government district(Metropolitan borough)\\nMap\\n\\n\\nYorkshire and the Humber, England\\n\\n552,698 (2011)[16]\\n\\n\\n\\n\\nBradford1\\n\\n1897\\n\\nLocal government district(Metropolitan borough)\\nMap\\n\\n\\nYorkshire and the Humber, England\\n\\n522,452 (2011)[16]\\n\\n\\n\\n\\nManchester1\\n\\n185334\\n\\nLocal government district(Metropolitan borough)\\nMap\\n\\n\\nNorth West, England\\n\\n503,127 (2011)[16]\\n\\n\\n\\n\\nEdinburgh32(Scottish Gaelic: Dùn Èideann)\\n\\n18th century[13](Burgh: 1329)\\n\\nLocal government district(Council area)\\nMap\\n\\n\\nScotland\\n\\n476,62638\\n\\n\\n\\n\\nLiverpool2\\n\\n1880\\n\\nLocal government district(Metropolitan borough)\\nMap\\n\\n\\nNorth West, England\\n\\n466,415 (2011)[16]\\n\\n\\n\\n\\nBristol1\\n\\n1542\\n\\nLocal government district(Unitary and county)\\nMap\\n\\n\\nSouth West, England\\n\\n428,234 (2011)[16]\\n\\n\\n\\n\\nCardiff9(Welsh: Caerdydd)\\n\\n190529\\n\\nLocal government district(Principal area)\\nMap\\n\\n\\nWales\\n\\n346,090 (2011)[16]\\n\\n\\n\\n\\nBelfast(Irish: Béal Feirste)(Ulster-Scots: Bilfawst)\\n\\n1888\\n\\nLocal government district\\nMap\\n\\n\\nNorthern Ireland\\n\\n333,871 (2011)[18]\\n\\n\\n\\n\\nLeicester1\\n\\n191922\\n\\nLocal government district(Unitary)\\nMap\\n\\n\\nEast Midlands, England\\n\\n329,839 (2011)[16]\\n\\n\\n\\n\\nWakefield3\\n\\n1888\\n\\nLocal government district(Metropolitan borough)\\nMap\\n\\n\\nYorkshire and the Humber, England\\n\\n325,837 (2011)[16]\\n\\n\\n\\n\\nCoventry1\\n\\n1102\\n\\nLocal government district(Metropolitan borough)\\nMap\\n\\n\\nWest Midlands, England\\n\\n316,915 (2011)[16]\\n\\n\\n\\n\\nDoncaster\\n\\n202247\\n\\nLocal government district(Metropolitan borough)\\nMap\\n\\n\\nYorkshire and the Humber, England\\n\\n308,106\\n\\n\\n\\n\\nNottingham1\\n\\n1897\\n\\nLocal government district(Unitary)\\nMap\\n\\n\\nEast Midlands, England\\n\\n305,680 (2011)[16]\\n\\n\\n\\n\\nNewcastle upon Tyne1\\n\\n1882\\n\\nLocal government district(Metropolitan borough)\\nMap\\n\\n\\nNorth East, England\\n\\n280,177 (2011)[16]\\n\\n\\n\\n\\nSunderland18\\n\\n1992\\n\\nLocal government district(Metropolitan borough)\\nMap\\n\\n\\nNorth East, England\\n\\n275,506 (2011)[16]\\n\\n\\n\\n\\nBrighton & Hove15\\n\\n2001\\n\\nLocal government district(Unitary)\\nMap\\n\\n\\nSouth East, England\\n\\n273,369 (2011)[16]\\n\\n\\n\\n\\nKingston upon Hull12\\n\\n1897\\n\\nLocal government district(Unitary)\\nMap\\n\\n\\nYorkshire and the Humber, England\\n\\n256,406 (2011)[16]\\n\\n\\n\\n\\nPlymouth1\\n\\n192827\\n\\nLocal government district(Unitary)\\nMap\\n\\n\\nSouth West, England\\n\\n256,384 (2011)[16]\\n\\n\\n\\n\\nWolverhampton16\\n\\n2001\\n\\nLocal government district(Metropolitan borough)\\nMap\\n\\n\\nWest Midlands, England\\n\\n249,470 (2011)[16]\\n\\n\\n\\n\\nStoke-on-Trent3\\n\\n192528\\n\\nLocal government district(Unitary)\\nMap\\n\\n\\nWest Midlands, England\\n\\n249,008 (2011)[16]\\n\\n\\n\\n\\nMilton Keynes\\n\\n202241\\n\\nLocal government district(Unitary)\\nMap\\n\\n\\nSouth East, England\\n\\n248,821 (2011)[16]\\n\\n\\n\\n\\nDerby13\\n\\n1977\\n\\nLocal government district(Unitary)\\nMap\\n\\n\\nEast Midlands, England\\n\\n248,752 (2011)[16]\\n\\n\\n\\n\\nSwansea9(Welsh: Abertawe)\\n\\n196923\\n\\nLocal government district(Principal area)\\nMap\\n\\n\\nWales\\n\\n239,023 (2011)[16]\\n\\n\\n\\n\\nSouthampton1\\n\\n1964\\n\\nLocal government district(Unitary)\\nMap\\n\\n\\nSouth East, England\\n\\n236,882 (2011)[16]\\n\\n\\n\\n\\nSalford1\\n\\n192624\\n\\nLocal government district(Metropolitan borough)\\nMap\\n\\n\\nNorth West, England\\n\\n233,933 (2011)[16]\\n\\n\\n\\n\\nAberdeen32(Scots: Aiberdeen)(Scottish Gaelic: Obar Dheathain)\\n\\n189131(Burgh: 1179)\\n\\nLocal government district(Council area)\\nMap\\n\\n\\nScotland\\n\\n222,79338\\n\\n\\n\\n\\nPortsmouth1\\n\\n192624\\n\\nLocal government district(Unitary)\\nMap\\n\\n\\nSouth East, England\\n\\n205,056 (2011)[16]\\n\\n\\n\\n\\nYork1,8\\n\\ntime immemorial\\n\\nLocal government district(Unitary)\\nMap\\n\\n\\nYorkshire and the Humber, England\\n\\n198,051 (2011)[16]\\n\\n\\n\\n\\nColchester\\n\\n202244\\n\\nLocal government district(Non-metropolitan borough)\\nMap\\n\\n\\nEast, England\\n\\n194,706\\n\\n\\n\\n\\nPeterborough2\\n\\n1541\\n\\nLocal government district(Unitary)\\nMap\\n\\n\\nEast, England\\n\\n183,631 (2011)[16]\\n\\n\\n\\n\\nSouthend-on-Sea\\n\\n202245\\n\\nLocal government district(Unitary)\\nMap\\n\\n\\nEast, England\\n\\n173,658 (2011)[19]\\n\\n\\n\\n\\nChelmsford37\\n\\n2012\\n\\nLocal government district(Non-metropolitan borough)\\nMap\\n\\n\\nEast, England\\n\\n168,310 (2011)[16]\\n\\n\\n\\n\\nOxford1\\n\\n1542\\n\\nLocal government district(Non-metropolitan borough)\\nMap\\n\\n\\nSouth East, England\\n\\n151,906 (2011)[16]\\n\\n\\n\\n\\nCanterbury3\\n\\ntime immemorial\\n\\nLocal government district(Non-metropolitan borough)\\nMap\\n\\n\\nSouth East, England\\n\\n151,145 (2011)[16]\\n\\n\\n\\n\\nDundee32(Scottish Gaelic: Dùn Dèagh)\\n\\n188930(Burgh: 1191)\\n\\nLocal government district(Council area)\\nMap\\n\\n\\nScotland\\n\\n147,26838\\n\\n\\n\\n\\nNewport14(Welsh: Casnewydd)\\n\\n2002\\n\\nLocal government district(Principal area)\\nMap\\n\\n\\nWales\\n\\n145,736 (2011)[16]\\n\\n\\n\\n\\nSt Albans7\\n\\n187736\\n\\nLocal government district(Non-metropolitan borough)\\nMap\\n\\n\\nEast, England\\n\\n140,644 (2011)[16]\\n\\n\\n\\n\\nPreston14\\n\\n2002\\n\\nLocal government district(Non-metropolitan borough)\\nMap\\n\\n\\nNorth West, England\\n\\n140,202 (2011)[16]\\n\\n\\n\\n\\nLancaster1\\n\\n193726\\n\\nLocal government district(Non-metropolitan borough)\\nMap\\n\\n\\nNorth West, England\\n\\n138,375 (2011)[16]\\n\\n\\n\\n\\nWrexham (Welsh: Wrecsam)\\n\\n202243\\n\\nLocal government district(Principal area)\\nMap\\n\\n\\nWales\\n\\n134,844 (2011)[16]\\n\\n\\n\\n\\nNorwich1\\n\\n1094\\n\\nLocal government district(Non-metropolitan borough)\\nMap\\n\\n\\nEast, England\\n\\n132,512 (2011)[16]\\n\\n\\n\\n\\nExeter1\\n\\ntime immemorial\\n\\nLocal government district(Non-metropolitan borough)\\nMap\\n\\n\\nSouth West, England\\n\\n127,709 (2020)[16]\\n\\n\\n\\n\\nCambridge3\\n\\n195125\\n\\nLocal government district(Non-metropolitan borough)\\nMap\\n\\n\\nEast, England\\n\\n123,867 (2011)[16]\\n\\n\\n\\n\\nGloucester1\\n\\n1541\\n\\nLocal government district(Non-metropolitan borough)\\nMap\\n\\n\\nSouth West, England\\n\\n121,688 (2011)[16]\\n\\n\\n\\n\\nWinchester1\\n\\ntime immemorial\\n\\nLocal government district(Non-metropolitan borough)\\nMap\\n\\n\\nSouth East, England\\n\\n116,595 (2011)[16]\\n\\n\\n\\n\\nDerry39(Irish: Doire)(Ulster-Scots: Derrie)\\n\\n1604[20]\\n\\nNone. Represented on Derry City and Strabane District Council\\nMap\\n\\n\\nNorthern Ireland\\n\\n107,877 (2011)[21]\\n\\n\\n\\n\\nCarlisle1\\n\\n1133\\n\\nCharter trustees\\nMap\\n\\n\\nNorth West, England\\n\\n107,524 (2011)[16]\\n\\n\\n\\n\\nWorcester3\\n\\ntime immemorial\\n\\nLocal government district(Non-metropolitan borough)\\nMap\\n\\n\\nWest Midlands, England\\n\\n98,768 (2011)[16]\\n\\n\\n\\n\\nDurham1\\n\\ntime immemorial\\n\\nCharter trustees‡\\nMap\\n\\n\\nNorth East, England\\n\\n94,375 (2011)[22]\\n\\n\\n\\n\\nLincoln3\\n\\n1072\\n\\nLocal government district(Non-metropolitan borough)\\nMap\\n\\n\\nEast Midlands, England\\n\\n93,541 (2011)[16]\\n\\n\\n\\n\\nChester3\\n\\n1541\\n\\nCharter trustees‡\\nMap\\n\\n\\nNorth West, England\\n\\n91,733 (2010)[23]\\n\\n\\n\\n\\nBath1\\n\\n1090\\n\\nCharter trustees\\nMap\\n\\n\\nSouth West, England\\n\\n88,859 (2011)[24]\\n\\n\\n\\n\\nInverness(Scots: Inerness)\\n(Scottish Gaelic: Inbhir Nis)\\n\\n\\n2001\\n\\nNone\\nMap\\n\\n\\nScotland\\n\\n79,415[25]\\n\\n\\n\\n\\nBangor (County Down)(Irish: Beannchar)\\n\\n202248\\n\\nNone. Represented on Ards and North Down Borough Council\\nMap\\n\\n\\nNorthern Ireland\\n\\n61,011\\n\\n\\n\\n\\nHereford119\\n\\ntime immemorial\\n\\nCivil parish\\nMap\\n\\n\\nWest Midlands, England\\n\\n58,896 (2011)[26]\\n\\n\\n\\n\\nDunfermline\\n\\n202246\\n\\nNone\\nMap\\n\\n\\nScotland\\n\\n49,706\\n\\n\\n\\n\\nPerth(Scots: Pairth)(Scottish Gaelic: Peairt)\\n\\n2012[27](Burgh: 12th century)[29]\\n\\nNone\\nMap\\n\\n\\nScotland\\n\\n45,77038\\n\\n\\n\\n\\nLisburn(Irish: Lios na gCearrbhach)\\n\\n2002\\n\\nNone.  Represented on Lisburn and Castlereagh City Council\\nMap\\n\\n\\nNorthern Ireland\\n\\n45,370 (2011)[21]\\n\\n\\n\\n\\nSalisbury35\\n\\n1227\\n\\nCivil parish‡\\nMap\\n\\n\\nSouth West, England\\n\\n40,302 (2011)[30]\\n\\n\\n\\n\\nStirling(Scots: Stirlin)(Scottish Gaelic: Sruighlea)\\n\\n2002\\n\\nNone\\nMap\\n\\n\\nScotland\\n\\n34,79038\\n\\n\\n\\n\\nLichfield17\\n\\ntime immemorial\\n\\nCivil parish\\nMap\\n\\n\\nWest Midlands, England\\n\\n32,219 (2011)[31]\\n\\n\\n\\n\\nNewry(Irish: Iúr Cinn Trá)(Ulster-Scots: Newrie)\\n\\n2002\\n\\nNone.  Represented on Newry, Mourne and Down District Council\\nMap\\n\\n\\nNorthern Ireland\\n\\n29,946 (2008, settlement population)[32]\\n\\n\\n\\n\\nChichester1\\n\\n1075\\n\\nCivil parish\\nMap\\n\\n\\nSouth East, England\\n\\n26,795 (2011)[33]\\n\\n\\n\\n\\nEly1\\n\\n1109[citation needed]\\n\\nCivil parish\\nMap\\n\\n\\nEast, England\\n\\n20,256 (2011)[34]\\n\\n\\n\\n\\nBangor (Gwynedd)1\\n\\ntime immemorial\\n\\nCommunity\\nMap\\n\\n\\nWales\\n\\n18,808 (2011)[35]\\n\\n\\n\\n\\nTruro1(Cornish: Truru)\\n\\n1877\\n\\nCivil parish\\nMap\\n\\n\\nSouth West, England\\n\\n18,766 (2011)[36]\\n\\n\\n\\n\\nRipon1\\n\\n1865\\n\\nCivil parish\\nMap\\n\\n\\nYorkshire and the Humber, England\\n\\n16,702 (2011)[37]\\n\\n\\n\\n\\nArmagh11(Irish: Ard Mhacha)(Ulster-Scots: Airmagh)\\n\\n1994\\n\\nNone.  Represented on Armagh City, Banbridge and Craigavon Borough Council\\nMap\\n\\n\\nNorthern Ireland\\n\\n14,777 (2011)[21]\\n\\n\\n\\n\\nWells1\\n\\ntime immemorial\\n\\nCivil parish\\nMap\\n\\n\\nSouth West, England\\n\\n10,536 (2011)[38]\\n\\n\\n\\n\\nSt Asaph37(Welsh: Llanelwy)\\n\\n2012\\n\\nCommunity\\nMap\\n\\n\\nWales\\n\\n3,355 (2011)[39]\\n\\n\\n\\n\\nSt Davids20(Welsh: Tyddewi)\\n\\n1994\\n\\nCommunity\\nMap\\n\\n\\nWales\\n\\n1,841 (2011)[40]\\n', '\\n• Scalable map displaying local government city boundaries\\n\\n\\nMap\\n\\nKey\\n\\n\\n\\n\\nAberdeenArmaghBangorBangorBathBelfastBirminghamBradfordBrighton and HoveBristolCambridgeCanterburyCardiffCarlisleChelmsfordChesterChichesterCity of LondonCity of WestminsterColchesterCoventryDerbyDerryDoncasterDundeeDunfermlineDurhamEdinburghElyExeterGlasgowGloucesterHerefordInvernessKingston upon HullLancasterLeedsLeicesterLichfieldLincolnLisburnLiverpoolManchesterMilton KeynesNewcastle upon TyneNewportNewryNorwichNottinghamOxfordPerthPeterboroughPlymouthPortsmouthPrestonRiponSalfordSalisburySheffieldSouthamptonSouthend-on-SeaSt AlbansSt AsaphSt DavidsStirlingStoke-on-TrentSunderlandSwanseaTruroWakefieldWellsWinchesterWolverhamptonWorcesterWrexhamYork\\n', \"\\n\\nCity\\n\\nYear grantedor confirmed\\n\\nCathedral(pre-1865)\\n\\nTerritory/Dependency\\n\\nStatus\\n\\nImage\\n\\nPopulation (Census)\\n\\n\\nGibraltar\\n\\n184242[43]\\n\\nCathedral of the Holy Trinity\\n\\nGibraltar, southwestern Europe\\nMap\\n\\n\\nBritish Overseas Territory\\n\\n\\n\\n32,194 (2012)\\n\\n\\nHamilton\\n\\n1897\\n\\nnot applicable\\n\\nBermuda,North Atlantic Ocean\\nMap\\n\\n\\nBritish Overseas Territory\\n\\n\\n\\n854 (2016)\\n\\n\\nJamestown\\n\\n1859\\n\\nSt Paul's\\n\\nSt Helena,Ascension and Tristan da Cunha,South Atlantic Ocean\\nMap\\n\\n\\nBritish Overseas Territory\\n\\n\\n\\n629 (2016)\\n\\n\\nStanley\\n\\n202240\\n\\nnot applicable\\n\\nFalkland Islands,South Atlantic Ocean\\nMap\\n\\n\\nBritish Overseas Territory\\n\\n\\n\\n2,460 (2016)\\n\\n\\nDouglas(Manx: Doolish)\\n\\n202249\\n\\nnot applicable\\n\\nIsle of Man,Irish Sea\\nMap\\n\\n\\nCrown Dependency\\n\\n\\n\\n27,938 (2011)\\n\", 'vteLists of cities in Europe Sovereign states\\nAlbania\\nAndorra\\nArmenia\\nAustria\\nAzerbaijan\\nBelarus\\nBelgium\\nBosnia and Herzegovina\\nBulgaria\\nCroatia\\nCyprus\\nCzech Republic\\nDenmark\\nEstonia\\nFinland\\nFrance\\nGeorgia\\nGermany\\nGreece\\nHungary\\nIceland\\nIreland\\n\\nItaly\\nKazakhstan\\nLatvia\\nLiechtenstein\\nLithuania\\nLuxembourg\\nMalta\\nMoldova\\nMonaco\\nMontenegro\\nNetherlands\\nNorth Macedonia\\nNorway\\nPoland\\nPortugal\\nRomania\\nRussia\\nSan Marino\\nSerbia\\nSlovakia\\nSlovenia\\nSpain\\nSweden\\nSwitzerland\\nTurkey\\nUkraine\\nUnited Kingdom\\nStates with limitedrecognition\\nAbkhazia\\nArtsakh\\nKosovo\\nNorthern Cyprus\\nSouth Ossetia\\nTransnistria\\nDependencies andother entities\\nGibraltar\\n', 'vte Lists of settlements in the United KingdomUnited Kingdom\\nUrban areas\\nCities\\nNicknames\\nGVA\\nEngland\\nDistricts\\nby population\\narea\\nethnic composition\\npopulation density\\nMost populated per county\\nTowns\\nCombined authorities\\nWales\\nBuilt-up areas\\nPrincipal areas\\nby date / population / area / density\\npercentage Welsh language\\nCommunities\\nCities\\nTowns\\nEconomic regions\\nScotland\\nLocalities / settlements\\nCouncil areas\\nby population / density / area\\nScottish Gaelic speakers\\nBurghs\\nCommunity council areas\\nPorts and harbours\\nNorthern Ireland\\nLocalities\\nDistricts\\nby population / density / area\\nreligion or religion brought up in\\nnational identity\\nPre-2015 districts\\nTowns and villages\\n']\n"
          ]
        }
      ]
    },
    {
      "cell_type": "markdown",
      "source": [
        "- show raw data in table to understand it better and figure out what is not necessary"
      ],
      "metadata": {
        "id": "dHYn8RsVU2_r"
      }
    },
    {
      "cell_type": "code",
      "source": [
        "import pandas as pd\n",
        "url = 'https://en.wikipedia.org/wiki/List_of_cities_in_the_United_Kingdom'\n",
        "tables = pd.read_html(url)\n",
        "tables[0]\n"
      ],
      "metadata": {
        "id": "m583ZNLRqoAP",
        "colab": {
          "base_uri": "https://localhost:8080/",
          "height": 562
        },
        "outputId": "5686b2a0-7004-46af-cc84-1a66af77383d"
      },
      "execution_count": 121,
      "outputs": [
        {
          "output_type": "execute_result",
          "data": {
            "text/plain": [
              "    Image                                         City[3][1]  \\\n",
              "0     NaN                                    City of London6   \n",
              "1     NaN                                      Westminster21   \n",
              "2     NaN                                        Birmingham2   \n",
              "3     NaN                                             Leeds1   \n",
              "4     NaN  Glasgow32 (Scots: Glesga) (Scottish Gaelic: Gl...   \n",
              "..    ...                                                ...   \n",
              "71    NaN                                             Ripon1   \n",
              "72    NaN  Armagh11 (Irish: Ard Mhacha) (Ulster-Scots: Ai...   \n",
              "73    NaN                                             Wells1   \n",
              "74    NaN                       St Asaph37 (Welsh: Llanelwy)   \n",
              "75    NaN                       St Davids20 (Welsh: Tyddewi)   \n",
              "\n",
              "        Year granted or confirmed  \\\n",
              "0                 time immemorial   \n",
              "1                            1540   \n",
              "2                          188933   \n",
              "3                            1893   \n",
              "4   18th century[4] (Burgh: 1492)   \n",
              "..                            ...   \n",
              "71                           1865   \n",
              "72                           1994   \n",
              "73                time immemorial   \n",
              "74                           2012   \n",
              "75                           1994   \n",
              "\n",
              "                                  City council status  \\\n",
              "0   Local government district (sui generis and cer...   \n",
              "1       Local government distric (London borough) Map   \n",
              "2   Local government district (Metropolitan boroug...   \n",
              "3   Local government district (Metropolitan boroug...   \n",
              "4        Local government district (Council area) Map   \n",
              "..                                                ...   \n",
              "71                                   Civil parish Map   \n",
              "72  None. Represented on Armagh City, Banbridge an...   \n",
              "73                                   Civil parish Map   \n",
              "74                                      Community Map   \n",
              "75                                      Community Map   \n",
              "\n",
              "                        Nation/region    City Population[b]  \n",
              "0             Greater London, England      7,375 (2011)[16]  \n",
              "1             Greater London, England    219,396 (2011)[16]  \n",
              "2              West Midlands, England  1,092,330 (2013)[17]  \n",
              "3   Yorkshire and the Humber, England    751,485 (2011)[16]  \n",
              "4                            Scotland              59324538  \n",
              "..                                ...                   ...  \n",
              "71  Yorkshire and the Humber, England     16,702 (2011)[37]  \n",
              "72                   Northern Ireland     14,777 (2011)[21]  \n",
              "73                South West, England     10,536 (2011)[38]  \n",
              "74                              Wales      3,355 (2011)[39]  \n",
              "75                              Wales      1,841 (2011)[40]  \n",
              "\n",
              "[76 rows x 6 columns]"
            ],
            "text/html": [
              "\n",
              "  <div id=\"df-81ec2482-ec7a-431c-a52a-3b671aff0a14\" class=\"colab-df-container\">\n",
              "    <div>\n",
              "<style scoped>\n",
              "    .dataframe tbody tr th:only-of-type {\n",
              "        vertical-align: middle;\n",
              "    }\n",
              "\n",
              "    .dataframe tbody tr th {\n",
              "        vertical-align: top;\n",
              "    }\n",
              "\n",
              "    .dataframe thead th {\n",
              "        text-align: right;\n",
              "    }\n",
              "</style>\n",
              "<table border=\"1\" class=\"dataframe\">\n",
              "  <thead>\n",
              "    <tr style=\"text-align: right;\">\n",
              "      <th></th>\n",
              "      <th>Image</th>\n",
              "      <th>City[3][1]</th>\n",
              "      <th>Year granted or confirmed</th>\n",
              "      <th>City council status</th>\n",
              "      <th>Nation/region</th>\n",
              "      <th>City Population[b]</th>\n",
              "    </tr>\n",
              "  </thead>\n",
              "  <tbody>\n",
              "    <tr>\n",
              "      <th>0</th>\n",
              "      <td>NaN</td>\n",
              "      <td>City of London6</td>\n",
              "      <td>time immemorial</td>\n",
              "      <td>Local government district (sui generis and cer...</td>\n",
              "      <td>Greater London, England</td>\n",
              "      <td>7,375 (2011)[16]</td>\n",
              "    </tr>\n",
              "    <tr>\n",
              "      <th>1</th>\n",
              "      <td>NaN</td>\n",
              "      <td>Westminster21</td>\n",
              "      <td>1540</td>\n",
              "      <td>Local government distric (London borough) Map</td>\n",
              "      <td>Greater London, England</td>\n",
              "      <td>219,396 (2011)[16]</td>\n",
              "    </tr>\n",
              "    <tr>\n",
              "      <th>2</th>\n",
              "      <td>NaN</td>\n",
              "      <td>Birmingham2</td>\n",
              "      <td>188933</td>\n",
              "      <td>Local government district (Metropolitan boroug...</td>\n",
              "      <td>West Midlands, England</td>\n",
              "      <td>1,092,330 (2013)[17]</td>\n",
              "    </tr>\n",
              "    <tr>\n",
              "      <th>3</th>\n",
              "      <td>NaN</td>\n",
              "      <td>Leeds1</td>\n",
              "      <td>1893</td>\n",
              "      <td>Local government district (Metropolitan boroug...</td>\n",
              "      <td>Yorkshire and the Humber, England</td>\n",
              "      <td>751,485 (2011)[16]</td>\n",
              "    </tr>\n",
              "    <tr>\n",
              "      <th>4</th>\n",
              "      <td>NaN</td>\n",
              "      <td>Glasgow32 (Scots: Glesga) (Scottish Gaelic: Gl...</td>\n",
              "      <td>18th century[4] (Burgh: 1492)</td>\n",
              "      <td>Local government district (Council area) Map</td>\n",
              "      <td>Scotland</td>\n",
              "      <td>59324538</td>\n",
              "    </tr>\n",
              "    <tr>\n",
              "      <th>...</th>\n",
              "      <td>...</td>\n",
              "      <td>...</td>\n",
              "      <td>...</td>\n",
              "      <td>...</td>\n",
              "      <td>...</td>\n",
              "      <td>...</td>\n",
              "    </tr>\n",
              "    <tr>\n",
              "      <th>71</th>\n",
              "      <td>NaN</td>\n",
              "      <td>Ripon1</td>\n",
              "      <td>1865</td>\n",
              "      <td>Civil parish Map</td>\n",
              "      <td>Yorkshire and the Humber, England</td>\n",
              "      <td>16,702 (2011)[37]</td>\n",
              "    </tr>\n",
              "    <tr>\n",
              "      <th>72</th>\n",
              "      <td>NaN</td>\n",
              "      <td>Armagh11 (Irish: Ard Mhacha) (Ulster-Scots: Ai...</td>\n",
              "      <td>1994</td>\n",
              "      <td>None. Represented on Armagh City, Banbridge an...</td>\n",
              "      <td>Northern Ireland</td>\n",
              "      <td>14,777 (2011)[21]</td>\n",
              "    </tr>\n",
              "    <tr>\n",
              "      <th>73</th>\n",
              "      <td>NaN</td>\n",
              "      <td>Wells1</td>\n",
              "      <td>time immemorial</td>\n",
              "      <td>Civil parish Map</td>\n",
              "      <td>South West, England</td>\n",
              "      <td>10,536 (2011)[38]</td>\n",
              "    </tr>\n",
              "    <tr>\n",
              "      <th>74</th>\n",
              "      <td>NaN</td>\n",
              "      <td>St Asaph37 (Welsh: Llanelwy)</td>\n",
              "      <td>2012</td>\n",
              "      <td>Community Map</td>\n",
              "      <td>Wales</td>\n",
              "      <td>3,355 (2011)[39]</td>\n",
              "    </tr>\n",
              "    <tr>\n",
              "      <th>75</th>\n",
              "      <td>NaN</td>\n",
              "      <td>St Davids20 (Welsh: Tyddewi)</td>\n",
              "      <td>1994</td>\n",
              "      <td>Community Map</td>\n",
              "      <td>Wales</td>\n",
              "      <td>1,841 (2011)[40]</td>\n",
              "    </tr>\n",
              "  </tbody>\n",
              "</table>\n",
              "<p>76 rows × 6 columns</p>\n",
              "</div>\n",
              "    <div class=\"colab-df-buttons\">\n",
              "\n",
              "  <div class=\"colab-df-container\">\n",
              "    <button class=\"colab-df-convert\" onclick=\"convertToInteractive('df-81ec2482-ec7a-431c-a52a-3b671aff0a14')\"\n",
              "            title=\"Convert this dataframe to an interactive table.\"\n",
              "            style=\"display:none;\">\n",
              "\n",
              "  <svg xmlns=\"http://www.w3.org/2000/svg\" height=\"24px\" viewBox=\"0 -960 960 960\">\n",
              "    <path d=\"M120-120v-720h720v720H120Zm60-500h600v-160H180v160Zm220 220h160v-160H400v160Zm0 220h160v-160H400v160ZM180-400h160v-160H180v160Zm440 0h160v-160H620v160ZM180-180h160v-160H180v160Zm440 0h160v-160H620v160Z\"/>\n",
              "  </svg>\n",
              "    </button>\n",
              "\n",
              "  <style>\n",
              "    .colab-df-container {\n",
              "      display:flex;\n",
              "      gap: 12px;\n",
              "    }\n",
              "\n",
              "    .colab-df-convert {\n",
              "      background-color: #E8F0FE;\n",
              "      border: none;\n",
              "      border-radius: 50%;\n",
              "      cursor: pointer;\n",
              "      display: none;\n",
              "      fill: #1967D2;\n",
              "      height: 32px;\n",
              "      padding: 0 0 0 0;\n",
              "      width: 32px;\n",
              "    }\n",
              "\n",
              "    .colab-df-convert:hover {\n",
              "      background-color: #E2EBFA;\n",
              "      box-shadow: 0px 1px 2px rgba(60, 64, 67, 0.3), 0px 1px 3px 1px rgba(60, 64, 67, 0.15);\n",
              "      fill: #174EA6;\n",
              "    }\n",
              "\n",
              "    .colab-df-buttons div {\n",
              "      margin-bottom: 4px;\n",
              "    }\n",
              "\n",
              "    [theme=dark] .colab-df-convert {\n",
              "      background-color: #3B4455;\n",
              "      fill: #D2E3FC;\n",
              "    }\n",
              "\n",
              "    [theme=dark] .colab-df-convert:hover {\n",
              "      background-color: #434B5C;\n",
              "      box-shadow: 0px 1px 3px 1px rgba(0, 0, 0, 0.15);\n",
              "      filter: drop-shadow(0px 1px 2px rgba(0, 0, 0, 0.3));\n",
              "      fill: #FFFFFF;\n",
              "    }\n",
              "  </style>\n",
              "\n",
              "    <script>\n",
              "      const buttonEl =\n",
              "        document.querySelector('#df-81ec2482-ec7a-431c-a52a-3b671aff0a14 button.colab-df-convert');\n",
              "      buttonEl.style.display =\n",
              "        google.colab.kernel.accessAllowed ? 'block' : 'none';\n",
              "\n",
              "      async function convertToInteractive(key) {\n",
              "        const element = document.querySelector('#df-81ec2482-ec7a-431c-a52a-3b671aff0a14');\n",
              "        const dataTable =\n",
              "          await google.colab.kernel.invokeFunction('convertToInteractive',\n",
              "                                                    [key], {});\n",
              "        if (!dataTable) return;\n",
              "\n",
              "        const docLinkHtml = 'Like what you see? Visit the ' +\n",
              "          '<a target=\"_blank\" href=https://colab.research.google.com/notebooks/data_table.ipynb>data table notebook</a>'\n",
              "          + ' to learn more about interactive tables.';\n",
              "        element.innerHTML = '';\n",
              "        dataTable['output_type'] = 'display_data';\n",
              "        await google.colab.output.renderOutput(dataTable, element);\n",
              "        const docLink = document.createElement('div');\n",
              "        docLink.innerHTML = docLinkHtml;\n",
              "        element.appendChild(docLink);\n",
              "      }\n",
              "    </script>\n",
              "  </div>\n",
              "\n",
              "\n",
              "<div id=\"df-eb29e237-81f2-43f3-972b-0ff8b10144a6\">\n",
              "  <button class=\"colab-df-quickchart\" onclick=\"quickchart('df-eb29e237-81f2-43f3-972b-0ff8b10144a6')\"\n",
              "            title=\"Suggest charts.\"\n",
              "            style=\"display:none;\">\n",
              "\n",
              "<svg xmlns=\"http://www.w3.org/2000/svg\" height=\"24px\"viewBox=\"0 0 24 24\"\n",
              "     width=\"24px\">\n",
              "    <g>\n",
              "        <path d=\"M19 3H5c-1.1 0-2 .9-2 2v14c0 1.1.9 2 2 2h14c1.1 0 2-.9 2-2V5c0-1.1-.9-2-2-2zM9 17H7v-7h2v7zm4 0h-2V7h2v10zm4 0h-2v-4h2v4z\"/>\n",
              "    </g>\n",
              "</svg>\n",
              "  </button>\n",
              "\n",
              "<style>\n",
              "  .colab-df-quickchart {\n",
              "      --bg-color: #E8F0FE;\n",
              "      --fill-color: #1967D2;\n",
              "      --hover-bg-color: #E2EBFA;\n",
              "      --hover-fill-color: #174EA6;\n",
              "      --disabled-fill-color: #AAA;\n",
              "      --disabled-bg-color: #DDD;\n",
              "  }\n",
              "\n",
              "  [theme=dark] .colab-df-quickchart {\n",
              "      --bg-color: #3B4455;\n",
              "      --fill-color: #D2E3FC;\n",
              "      --hover-bg-color: #434B5C;\n",
              "      --hover-fill-color: #FFFFFF;\n",
              "      --disabled-bg-color: #3B4455;\n",
              "      --disabled-fill-color: #666;\n",
              "  }\n",
              "\n",
              "  .colab-df-quickchart {\n",
              "    background-color: var(--bg-color);\n",
              "    border: none;\n",
              "    border-radius: 50%;\n",
              "    cursor: pointer;\n",
              "    display: none;\n",
              "    fill: var(--fill-color);\n",
              "    height: 32px;\n",
              "    padding: 0;\n",
              "    width: 32px;\n",
              "  }\n",
              "\n",
              "  .colab-df-quickchart:hover {\n",
              "    background-color: var(--hover-bg-color);\n",
              "    box-shadow: 0 1px 2px rgba(60, 64, 67, 0.3), 0 1px 3px 1px rgba(60, 64, 67, 0.15);\n",
              "    fill: var(--button-hover-fill-color);\n",
              "  }\n",
              "\n",
              "  .colab-df-quickchart-complete:disabled,\n",
              "  .colab-df-quickchart-complete:disabled:hover {\n",
              "    background-color: var(--disabled-bg-color);\n",
              "    fill: var(--disabled-fill-color);\n",
              "    box-shadow: none;\n",
              "  }\n",
              "\n",
              "  .colab-df-spinner {\n",
              "    border: 2px solid var(--fill-color);\n",
              "    border-color: transparent;\n",
              "    border-bottom-color: var(--fill-color);\n",
              "    animation:\n",
              "      spin 1s steps(1) infinite;\n",
              "  }\n",
              "\n",
              "  @keyframes spin {\n",
              "    0% {\n",
              "      border-color: transparent;\n",
              "      border-bottom-color: var(--fill-color);\n",
              "      border-left-color: var(--fill-color);\n",
              "    }\n",
              "    20% {\n",
              "      border-color: transparent;\n",
              "      border-left-color: var(--fill-color);\n",
              "      border-top-color: var(--fill-color);\n",
              "    }\n",
              "    30% {\n",
              "      border-color: transparent;\n",
              "      border-left-color: var(--fill-color);\n",
              "      border-top-color: var(--fill-color);\n",
              "      border-right-color: var(--fill-color);\n",
              "    }\n",
              "    40% {\n",
              "      border-color: transparent;\n",
              "      border-right-color: var(--fill-color);\n",
              "      border-top-color: var(--fill-color);\n",
              "    }\n",
              "    60% {\n",
              "      border-color: transparent;\n",
              "      border-right-color: var(--fill-color);\n",
              "    }\n",
              "    80% {\n",
              "      border-color: transparent;\n",
              "      border-right-color: var(--fill-color);\n",
              "      border-bottom-color: var(--fill-color);\n",
              "    }\n",
              "    90% {\n",
              "      border-color: transparent;\n",
              "      border-bottom-color: var(--fill-color);\n",
              "    }\n",
              "  }\n",
              "</style>\n",
              "\n",
              "  <script>\n",
              "    async function quickchart(key) {\n",
              "      const quickchartButtonEl =\n",
              "        document.querySelector('#' + key + ' button');\n",
              "      quickchartButtonEl.disabled = true;  // To prevent multiple clicks.\n",
              "      quickchartButtonEl.classList.add('colab-df-spinner');\n",
              "      try {\n",
              "        const charts = await google.colab.kernel.invokeFunction(\n",
              "            'suggestCharts', [key], {});\n",
              "      } catch (error) {\n",
              "        console.error('Error during call to suggestCharts:', error);\n",
              "      }\n",
              "      quickchartButtonEl.classList.remove('colab-df-spinner');\n",
              "      quickchartButtonEl.classList.add('colab-df-quickchart-complete');\n",
              "    }\n",
              "    (() => {\n",
              "      let quickchartButtonEl =\n",
              "        document.querySelector('#df-eb29e237-81f2-43f3-972b-0ff8b10144a6 button');\n",
              "      quickchartButtonEl.style.display =\n",
              "        google.colab.kernel.accessAllowed ? 'block' : 'none';\n",
              "    })();\n",
              "  </script>\n",
              "</div>\n",
              "    </div>\n",
              "  </div>\n"
            ]
          },
          "metadata": {},
          "execution_count": 121
        }
      ]
    },
    {
      "cell_type": "markdown",
      "source": [
        "- raw CSV file"
      ],
      "metadata": {
        "id": "zQHu7RKqum__"
      }
    },
    {
      "cell_type": "code",
      "source": [
        "df = tables[1]\n",
        "df.to_csv('UK_cities')"
      ],
      "metadata": {
        "id": "-v_5DG-gs-8z"
      },
      "execution_count": 117,
      "outputs": []
    },
    {
      "cell_type": "markdown",
      "source": [
        "## 4. Transform and load data (take out image column and put in alphabetical order)\n",
        "- I saw that the images didn't show and they were not necessary to analyze this data\n",
        "- put in alphabetical order makes more sense rather than it being in a random order\n",
        "- figure out the names of columns to then take out images"
      ],
      "metadata": {
        "id": "D0BXZ5dBxW7N"
      }
    },
    {
      "cell_type": "code",
      "source": [
        "print(df.columns)"
      ],
      "metadata": {
        "colab": {
          "base_uri": "https://localhost:8080/"
        },
        "id": "8YRVq4ynQcG5",
        "outputId": "bc3b7b42-e07b-4047-8660-4f24696563c0"
      },
      "execution_count": 118,
      "outputs": [
        {
          "output_type": "stream",
          "name": "stdout",
          "text": [
            "Index(['Map', 'Key'], dtype='object')\n"
          ]
        }
      ]
    },
    {
      "cell_type": "markdown",
      "source": [
        "- transform by sorting taking out image because it's irrelevant, and not transferrable\n",
        "- also transform by sorting cities in alphabetical order\n",
        "- load and process the data in csv"
      ],
      "metadata": {
        "id": "2FtFRYm6WFvM"
      }
    },
    {
      "cell_type": "code",
      "source": [
        "import pandas as pd\n",
        "\n",
        "# Load the table from the Wikipedia page\n",
        "df = pd.read_html(\"https://en.wikipedia.org/wiki/List_of_cities_in_the_United_Kingdom\")[0]\n",
        "\n",
        "# Simplify column names if they're multi-level\n",
        "df.columns = [' '.join(col).strip() for col in df.columns.values]\n",
        "\n",
        "# Drop the 'Image' column or its variations\n",
        "df = df[[col for col in df.columns if not any(name in col for name in ['Image', 'I m a g e'])]]\n",
        "\n",
        "# Identify the city column (assuming it's named 'City' or 'Name')\n",
        "city_column_name = [col for col in df.columns if col in ['C i t y [ 3 ] [ 1 ]']][0]\n",
        "\n",
        "# Sort by city names\n",
        "df_sorted = df.sort_values(by=city_column_name)\n",
        "\n",
        "# Display the sorted DataFrame in a table format\n",
        "print(df_sorted)\n"
      ],
      "metadata": {
        "colab": {
          "base_uri": "https://localhost:8080/"
        },
        "id": "ftAnv_4fXU0H",
        "outputId": "f46dbda1-5816-4c30-97ce-07b546e58c13"
      },
      "execution_count": 119,
      "outputs": [
        {
          "output_type": "stream",
          "name": "stdout",
          "text": [
            "                                  C i t y [ 3 ] [ 1 ]  \\\n",
            "30  Aberdeen32 (Scots: Aiberdeen) (Scottish Gaelic...   \n",
            "72  Armagh11 (Irish: Ard Mhacha) (Ulster-Scots: Ai...   \n",
            "58            Bangor (County Down) (Irish: Beannchar)   \n",
            "69                                  Bangor (Gwynedd)1   \n",
            "56                                              Bath1   \n",
            "..                                                ...   \n",
            "49                                        Winchester1   \n",
            "23                                    Wolverhampton16   \n",
            "52                                         Worcester3   \n",
            "44                           Wrexham (Welsh: Wrecsam)   \n",
            "32                                            York1,8   \n",
            "\n",
            "   Y e a r   g r a n t e d   o r   c o n f i r m e d  \\\n",
            "30                              189131 (Burgh: 1179)   \n",
            "72                                              1994   \n",
            "58                                            202248   \n",
            "69                                   time immemorial   \n",
            "56                                              1090   \n",
            "..                                               ...   \n",
            "49                                   time immemorial   \n",
            "23                                              2001   \n",
            "52                                   time immemorial   \n",
            "44                                            202243   \n",
            "32                                   time immemorial   \n",
            "\n",
            "                C i t y   c o u n c i l   s t a t u s  \\\n",
            "30       Local government district (Council area) Map   \n",
            "72  None. Represented on Armagh City, Banbridge an...   \n",
            "58  None. Represented on Ards and North Down Borou...   \n",
            "69                                      Community Map   \n",
            "56                               Charter trustees Map   \n",
            "..                                                ...   \n",
            "49  Local government district (Non-metropolitan bo...   \n",
            "23  Local government district (Metropolitan boroug...   \n",
            "52  Local government district (Non-metropolitan bo...   \n",
            "44     Local government district (Principal area) Map   \n",
            "32            Local government district (Unitary) Map   \n",
            "\n",
            "            N a t i o n / r e g i o n C i t y   P o p u l a t i o n [ b ]  \n",
            "30                           Scotland                            22279338  \n",
            "72                   Northern Ireland                   14,777 (2011)[21]  \n",
            "58                   Northern Ireland                               61011  \n",
            "69                              Wales                   18,808 (2011)[35]  \n",
            "56                South West, England                   88,859 (2011)[24]  \n",
            "..                                ...                                 ...  \n",
            "49                South East, England                  116,595 (2011)[16]  \n",
            "23             West Midlands, England                  249,470 (2011)[16]  \n",
            "52             West Midlands, England                   98,768 (2011)[16]  \n",
            "44                              Wales                  134,844 (2011)[16]  \n",
            "32  Yorkshire and the Humber, England                  198,051 (2011)[16]  \n",
            "\n",
            "[76 rows x 5 columns]\n"
          ]
        }
      ]
    },
    {
      "cell_type": "markdown",
      "source": [
        "## 5. Data visualization\n",
        "I decided to visualize the population data in a bar graph to easily see the comparison in population in each city. This was the most interesting and important piece of data since you can gain insights from it such as the major urban centers.\n"
      ],
      "metadata": {
        "id": "rkA3MEIyZqht"
      }
    },
    {
      "cell_type": "code",
      "source": [
        "import pandas as pd\n",
        "import matplotlib.pyplot as plt\n",
        "\n",
        "# Load the table from the Wikipedia page\n",
        "df = pd.read_html(\"https://en.wikipedia.org/wiki/List_of_cities_in_the_United_Kingdom\")[0]\n",
        "\n",
        "# Simplify column names if they're multi-level\n",
        "df.columns = [' '.join(col).strip() for col in df.columns.values]\n",
        "\n",
        "# Clean the population column (assuming it's labeled 'Population' or contains 'Population')\n",
        "# Convert the column to numbers (remove commas, non-numeric characters, etc.)\n",
        "population_column_name = [col for col in df.columns if 'C i t y   P o p u l a t i o n [ b ]' in col][0]\n",
        "df[population_column_name] = pd.to_numeric(df[population_column_name].astype(str).str.replace(',', ''), errors='coerce')\n",
        "\n",
        "\n",
        "# Plotting\n",
        "plt.figure(figsize=(15, 10))\n",
        "df_sorted = df.sort_values(by=population_column_name, ascending=False)\n",
        "plt.barh(df_sorted[city_column_name], df_sorted[population_column_name])\n",
        "plt.xlabel('Population')\n",
        "plt.ylabel('City')\n",
        "plt.title('Population Distribution of UK Cities')\n",
        "plt.gca().invert_yaxis()  # To have the city with the highest population at the top\n",
        "plt.show()\n"
      ],
      "metadata": {
        "colab": {
          "base_uri": "https://localhost:8080/",
          "height": 892
        },
        "id": "TLBBB9CFY9zf",
        "outputId": "59062014-dd72-462c-a6a2-313908cf8f83"
      },
      "execution_count": 120,
      "outputs": [
        {
          "output_type": "display_data",
          "data": {
            "text/plain": [
              "<Figure size 1500x1000 with 1 Axes>"
            ],
            "image/png": "[encoded data removed]"
          },
          "metadata": {}
        }
      ]
    },
    {
      "cell_type": "markdown",
      "source": [
        "Descriptive statistics: The bar graph shows in decsending order the highest to lowest populations and makes it clear what insights to draw from this, seeing which areas are the most concetrated and urbanized. The population bar graph visualization, sorted from highest (Glasgow) to lowest (Dunfermline), gives me a clear representation of the significant population variations among UK cities, highlighting cities with substantial population size in comparison to cities with low populations in the dataset."
      ],
      "metadata": {
        "id": "BYj6j2a4XzDQ"
      }
    }
  ]
}